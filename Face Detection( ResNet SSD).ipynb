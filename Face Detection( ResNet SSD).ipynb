{
 "cells": [
  {
   "cell_type": "code",
   "execution_count": 5,
   "id": "be2b84fe-4e6c-48dd-aa9b-9276581bcd38",
   "metadata": {},
   "outputs": [],
   "source": [
    "import cv2\n",
    "\n",
    "# Load the pre-trained deep learning model for face detection\n",
    "modelFile = r\"D:\\Project\\Face Detection (Resnet SSD)\\res10_300x300_ssd_iter_140000 (7).caffemodel\"\n",
    "configFile = r\"D:\\Project\\Face Detection (Resnet SSD)\\deploy.prototxt\"\n",
    "net = cv2.dnn.readNetFromCaffe(configFile, modelFile)\n"
   ]
  },
  {
   "cell_type": "code",
   "execution_count": 6,
   "id": "0d8a11c8-56af-4e85-b19d-b16ab4030900",
   "metadata": {},
   "outputs": [],
   "source": [
    "# Start video capture from the webcam\n",
    "cap = cv2.VideoCapture(0)\n"
   ]
  },
  {
   "cell_type": "code",
   "execution_count": 8,
   "id": "fda00815-d3a6-40b3-bbcb-c77ff2a27f3e",
   "metadata": {},
   "outputs": [
    {
     "ename": "KeyboardInterrupt",
     "evalue": "",
     "output_type": "error",
     "traceback": [
      "\u001b[1;31m---------------------------------------------------------------------------\u001b[0m",
      "\u001b[1;31mKeyboardInterrupt\u001b[0m                         Traceback (most recent call last)",
      "Cell \u001b[1;32mIn[8], line 19\u001b[0m\n\u001b[0;32m     16\u001b[0m net\u001b[38;5;241m.\u001b[39msetInput(blob)\n\u001b[0;32m     18\u001b[0m \u001b[38;5;66;03m# Perform face detection\u001b[39;00m\n\u001b[1;32m---> 19\u001b[0m detections \u001b[38;5;241m=\u001b[39m net\u001b[38;5;241m.\u001b[39mforward()\n\u001b[0;32m     20\u001b[0m \u001b[38;5;66;03m# Iterate over the detections\u001b[39;00m\n\u001b[0;32m     21\u001b[0m \u001b[38;5;28;01mfor\u001b[39;00m i \u001b[38;5;129;01min\u001b[39;00m \u001b[38;5;28mrange\u001b[39m(detections\u001b[38;5;241m.\u001b[39mshape[\u001b[38;5;241m2\u001b[39m]):\n",
      "\u001b[1;31mKeyboardInterrupt\u001b[0m: "
     ]
    }
   ],
   "source": [
    "while True:\n",
    "    # Capture frame-by-frame from the webcam\n",
    "    ret, frame = cap.read()\n",
    "\n",
    "    if not ret:\n",
    "        print(\"Failed to grab frame\")\n",
    "        break\n",
    "\n",
    "    # Get the height and width of the frame\n",
    "    h, w = frame.shape[:2]\n",
    "\n",
    "    # Prepare the input for the neural network: resize to 300x300 and normalize\n",
    "    blob = cv2.dnn.blobFromImage(cv2.resize(frame, (300, 300)), 1.0, (300, 300), (104.0, 177.0, 123.0))\n",
    "\n",
    "    # Set the blob as input to the model\n",
    "    net.setInput(blob)\n",
    "\n",
    "    # Perform face detection\n",
    "    detections = net.forward()\n",
    "    # Iterate over the detections\n",
    "    for i in range(detections.shape[2]):\n",
    "        confidence = detections[0, 0, i, 2]\n",
    "        \n",
    "        # Filter detections by confidence threshold\n",
    "        if confidence > 0.5:\n",
    "            # Get the coordinates of the detected face\n",
    "            box = detections[0, 0, i, 3:7] * [w, h, w, h]\n",
    "            (x1, y1, x2, y2) = box.astype(\"int\")\n",
    "            \n",
    "            # Draw a rectangle around the face\n",
    "            cv2.rectangle(frame, (x1, y1), (x2, y2), (0, 255, 0), 2)\n",
    "            \n",
    "            # Display confidence score\n",
    "            text = f\"Confidence: {confidence:.2f}\"\n",
    "            cv2.putText(frame, text, (x1, y1 - 10), cv2.FONT_HERSHEY_SIMPLEX, 0.5, (0, 255, 0), 2)\n",
    "    # Display the output frame\n",
    "    cv2.imshow('Face Detection', frame)\n",
    "\n",
    "    # Break the loop on 'q' key press\n",
    "    if cv2.waitKey(1) & 0xFF == ord('q'):\n",
    "        break\n",
    "# Release the webcam and close windows\n",
    "cap.release()\n",
    "cv2.destroyAllWindows()\n",
    "\n"
   ]
  },
  {
   "cell_type": "code",
   "execution_count": null,
   "id": "528fa366-5a30-42ee-97d0-e737ea7d0626",
   "metadata": {},
   "outputs": [],
   "source": []
  }
 ],
 "metadata": {
  "kernelspec": {
   "display_name": "Python 3 (ipykernel)",
   "language": "python",
   "name": "python3"
  },
  "language_info": {
   "codemirror_mode": {
    "name": "ipython",
    "version": 3
   },
   "file_extension": ".py",
   "mimetype": "text/x-python",
   "name": "python",
   "nbconvert_exporter": "python",
   "pygments_lexer": "ipython3",
   "version": "3.12.4"
  }
 },
 "nbformat": 4,
 "nbformat_minor": 5
}
